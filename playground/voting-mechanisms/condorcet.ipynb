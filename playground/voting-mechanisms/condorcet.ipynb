{
 "cells": [
  {
   "attachments": {},
   "cell_type": "markdown",
   "metadata": {},
   "source": [
    "# Basic Condorcet\n",
    "\n",
    "For a quick test, let's look at basic Condorcet voting. Recall that Condorcet looks for the option that wins all pairwise majority elections against every other option. Consider the set of agents $N = \\{ A, B, C, D\\}$ voting over solutions $\\{1, 2, 3, 4\\}$ and the following preference profile:\n",
    "\n",
    "<div>\n",
    "<img src=\"preference_profile.png\" width=\"300\"/>\n",
    "</div>\n",
    "\n",
    "Investigating all of the pairwise duels in a matrix, we'd get (for example, the three agents $A, B, C$ like 1 better than 2, only $D$ prefers 2 to 1, so 1 wins 3:1 over 2) : \n",
    "\n",
    "<div>\n",
    "<img src=\"duels.png\" width=\"500\"/>\n",
    "</div>\n",
    "\n",
    "And option 4 is the Condorcet winner that we'd hope to find. I've used numbers for options to make the transition to MiniZinc a bit easier (maybe we turn to enums a,b,c for better illustration).\n"
   ]
  },
  {
   "cell_type": "markdown",
   "metadata": {},
   "source": [
    "## MiniZinc basic toy example\n",
    "\n",
    "I wanted to abstract away some of the complications from directly considering solutions but also did not only want to vote over the value of a single integer variable, so only some combinationsof variable assignments $x$ and $y$ are valid and these get arbitrarily numbered (indicated by the variable `control`):\n",
    "\n",
    "<div>\n",
    "<img src=\"sols.png\" width=\"300\"/>\n",
    "</div>\n",
    "\n",
    "That at least keeps the illusion of voting over solutions to the CSP.\n",
    "```\n",
    "constraint if control = 1 then x = 1 /\\ y = 3 endif;\n",
    "constraint if control = 2 then x = 2 /\\ y = 2 endif;\n",
    "constraint if control = 3 then x = 1 /\\ y = 2 endif;\n",
    "constraint if control = 4 then x = 3 /\\ y = 1 endif;\n",
    "```\n",
    "\n",
    "Now the above encoding of agents' preferences can simply written as an array of integers denoting the ordering of control values.\n",
    "\n",
    "<div>\n",
    "<img src=\"preference_profile.png\" width=\"200\"/>\n",
    "</div>\n",
    "\n",
    "```\n",
    "array[AGENTS,CHOICES] of CHOICES: prefs = \n",
    "[| 1, 2, 4, 3 | 4, 1, 3, 2 | 3, 4, 1, 2 | 4, 2, 3, 1 |];\n",
    "```\n",
    "\n",
    "The full [MiniZinc model](base_model_with_prefs.mzn)\n",
    " does not much more other than providing a rank for every agent how they perceive the current solution according to prefs. So, if `control = 2` then `rank[1] = 2`, `rank[2] = 4`, etc.\n",
    "\n",
    "```\n",
    "array[AGENTS] of var 1..n_options: rank;\n",
    "\n",
    "constraint forall(a in AGENTS) (\n",
    "  prefs[a,rank[a]] = control\n",
    ");\n",
    "```\n",
    "\n",
    "which we will use to post the Condorcet-improvement criterion during custom Branch-and-Bound."
   ]
  },
  {
   "cell_type": "markdown",
   "metadata": {},
   "source": [
    "## The Meta-Search\n",
    "\n",
    "Basically, everything works just as in normal branch-and-bound for now, but instead of posting \n",
    "\n",
    "```\n",
    "child.add_string(f\"constraint obj > {res['obj']}\")\n",
    "```\n",
    "\n",
    "I would post the following (now in prose):\n",
    "\n",
    "```\n",
    "Given the current solution that we're at, give me the next solution that has better ranks (is liked better) by more than (or equal to) half the agents:\n",
    "```\n",
    "\n",
    "Let's implement this directly"
   ]
  },
  {
   "cell_type": "code",
   "execution_count": 3,
   "metadata": {},
   "outputs": [
    {
     "ename": "RuntimeError",
     "evalue": "asyncio.run() cannot be called from a running event loop",
     "output_type": "error",
     "traceback": [
      "\u001b[1;31m---------------------------------------------------------------------------\u001b[0m",
      "\u001b[1;31mRuntimeError\u001b[0m                              Traceback (most recent call last)",
      "\u001b[1;32m<ipython-input-3-0f544c3c96e8>\u001b[0m in \u001b[0;36m<module>\u001b[1;34m\u001b[0m\n\u001b[0;32m      7\u001b[0m \u001b[0minst\u001b[0m \u001b[1;33m=\u001b[0m \u001b[0mInstance\u001b[0m\u001b[1;33m(\u001b[0m\u001b[0mgecode\u001b[0m\u001b[1;33m,\u001b[0m \u001b[0mm\u001b[0m\u001b[1;33m)\u001b[0m\u001b[1;33m\u001b[0m\u001b[1;33m\u001b[0m\u001b[0m\n\u001b[0;32m      8\u001b[0m \u001b[1;33m\u001b[0m\u001b[0m\n\u001b[1;32m----> 9\u001b[1;33m \u001b[0mres\u001b[0m\u001b[1;33m:\u001b[0m \u001b[0mResult\u001b[0m \u001b[1;33m=\u001b[0m \u001b[0minst\u001b[0m\u001b[1;33m.\u001b[0m\u001b[0msolve\u001b[0m\u001b[1;33m(\u001b[0m\u001b[1;33m)\u001b[0m\u001b[1;33m\u001b[0m\u001b[1;33m\u001b[0m\u001b[0m\n\u001b[0m\u001b[0;32m     10\u001b[0m \u001b[0mprint\u001b[0m\u001b[1;33m(\u001b[0m\u001b[0mres\u001b[0m\u001b[1;33m.\u001b[0m\u001b[0msolution\u001b[0m\u001b[1;33m)\u001b[0m\u001b[1;33m\u001b[0m\u001b[1;33m\u001b[0m\u001b[0m\n\u001b[0;32m     11\u001b[0m \u001b[1;32mwhile\u001b[0m \u001b[0mres\u001b[0m\u001b[1;33m.\u001b[0m\u001b[0mstatus\u001b[0m \u001b[1;33m==\u001b[0m \u001b[0mStatus\u001b[0m\u001b[1;33m.\u001b[0m\u001b[0mSATISFIED\u001b[0m\u001b[1;33m:\u001b[0m\u001b[1;33m\u001b[0m\u001b[1;33m\u001b[0m\u001b[0m\n",
      "\u001b[1;32m~\\AppData\\Roaming\\Python\\Python37\\site-packages\\minizinc\\instance.py\u001b[0m in \u001b[0;36msolve\u001b[1;34m(self, timeout, nr_solutions, processes, random_seed, all_solutions, intermediate_solutions, free_search, **kwargs)\u001b[0m\n\u001b[0;32m     99\u001b[0m             \u001b[1;32mif\u001b[0m \u001b[0msys\u001b[0m\u001b[1;33m.\u001b[0m\u001b[0mplatform\u001b[0m \u001b[1;33m==\u001b[0m \u001b[1;34m\"win32\"\u001b[0m\u001b[1;33m:\u001b[0m\u001b[1;33m\u001b[0m\u001b[1;33m\u001b[0m\u001b[0m\n\u001b[0;32m    100\u001b[0m                 \u001b[0masyncio\u001b[0m\u001b[1;33m.\u001b[0m\u001b[0mset_event_loop_policy\u001b[0m\u001b[1;33m(\u001b[0m\u001b[0masyncio\u001b[0m\u001b[1;33m.\u001b[0m\u001b[0mWindowsProactorEventLoopPolicy\u001b[0m\u001b[1;33m(\u001b[0m\u001b[1;33m)\u001b[0m\u001b[1;33m)\u001b[0m\u001b[1;33m\u001b[0m\u001b[1;33m\u001b[0m\u001b[0m\n\u001b[1;32m--> 101\u001b[1;33m             \u001b[1;32mreturn\u001b[0m \u001b[0masyncio\u001b[0m\u001b[1;33m.\u001b[0m\u001b[0mrun\u001b[0m\u001b[1;33m(\u001b[0m\u001b[0mcoroutine\u001b[0m\u001b[1;33m)\u001b[0m\u001b[1;33m\u001b[0m\u001b[1;33m\u001b[0m\u001b[0m\n\u001b[0m\u001b[0;32m    102\u001b[0m         \u001b[1;32melse\u001b[0m\u001b[1;33m:\u001b[0m\u001b[1;33m\u001b[0m\u001b[1;33m\u001b[0m\u001b[0m\n\u001b[0;32m    103\u001b[0m             \u001b[1;32mif\u001b[0m \u001b[0msys\u001b[0m\u001b[1;33m.\u001b[0m\u001b[0mplatform\u001b[0m \u001b[1;33m==\u001b[0m \u001b[1;34m\"win32\"\u001b[0m\u001b[1;33m:\u001b[0m\u001b[1;33m\u001b[0m\u001b[1;33m\u001b[0m\u001b[0m\n",
      "\u001b[1;32mC:\\ProgramData\\Anaconda3\\lib\\asyncio\\runners.py\u001b[0m in \u001b[0;36mrun\u001b[1;34m(main, debug)\u001b[0m\n\u001b[0;32m     32\u001b[0m     \u001b[1;32mif\u001b[0m \u001b[0mevents\u001b[0m\u001b[1;33m.\u001b[0m\u001b[0m_get_running_loop\u001b[0m\u001b[1;33m(\u001b[0m\u001b[1;33m)\u001b[0m \u001b[1;32mis\u001b[0m \u001b[1;32mnot\u001b[0m \u001b[1;32mNone\u001b[0m\u001b[1;33m:\u001b[0m\u001b[1;33m\u001b[0m\u001b[1;33m\u001b[0m\u001b[0m\n\u001b[0;32m     33\u001b[0m         raise RuntimeError(\n\u001b[1;32m---> 34\u001b[1;33m             \"asyncio.run() cannot be called from a running event loop\")\n\u001b[0m\u001b[0;32m     35\u001b[0m \u001b[1;33m\u001b[0m\u001b[0m\n\u001b[0;32m     36\u001b[0m     \u001b[1;32mif\u001b[0m \u001b[1;32mnot\u001b[0m \u001b[0mcoroutines\u001b[0m\u001b[1;33m.\u001b[0m\u001b[0miscoroutine\u001b[0m\u001b[1;33m(\u001b[0m\u001b[0mmain\u001b[0m\u001b[1;33m)\u001b[0m\u001b[1;33m:\u001b[0m\u001b[1;33m\u001b[0m\u001b[1;33m\u001b[0m\u001b[0m\n",
      "\u001b[1;31mRuntimeError\u001b[0m: asyncio.run() cannot be called from a running event loop"
     ]
    }
   ],
   "source": [
    "import minizinc\n",
    "from minizinc import Instance, Model, Result, Solver, Status\n",
    "import asyncio\n",
    "\n",
    "gecode = Solver.lookup(\"gecode\")\n",
    "m = Model(\"base_model_with_prefs.mzn\")\n",
    "inst = Instance(gecode, m)\n",
    "\n",
    "res: Result = inst.solve()\n",
    "print(res.solution)\n",
    "while res.status == Status.SATISFIED:\n",
    "    with inst.branch() as child:\n",
    "        child.add_string(\"array[AGENTS] of 1..n_options+1: old_rank;\")\n",
    "        child[\"old_rank\"] = res[\"rank\"]  # copy the current ranks\n",
    "        child.add_string(\"constraint sum(a in AGENTS) ( bool2int(rank[a] < old_rank[a] ) ) > win_thresh;\")\n",
    "\n",
    "        res = child.solve()\n",
    "        if res.solution is not None:\n",
    "            print(res.solution)"
   ]
  },
  {
   "cell_type": "code",
   "execution_count": null,
   "metadata": {},
   "outputs": [],
   "source": []
  }
 ],
 "metadata": {
  "kernelspec": {
   "display_name": "Python 3",
   "language": "python",
   "name": "python3"
  },
  "language_info": {
   "codemirror_mode": {
    "name": "ipython",
    "version": 3
   },
   "file_extension": ".py",
   "mimetype": "text/x-python",
   "name": "python",
   "nbconvert_exporter": "python",
   "pygments_lexer": "ipython3",
   "version": "3.7.4"
  }
 },
 "nbformat": 4,
 "nbformat_minor": 2
}
